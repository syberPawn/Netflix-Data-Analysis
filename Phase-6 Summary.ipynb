{
 "cells": [
  {
   "cell_type": "markdown",
   "id": "3ce43b46-ae59-4379-a68e-f19458cec73d",
   "metadata": {},
   "source": [
    "### 🟣 Phase 6: Summary\n",
    "\n",
    "#### ✅ Key Tasks:\n",
    "\n",
    "- Export cleaned dataset\n",
    "- Summarize insights as a conclusion:\n",
    "  - Patterns/trends found\n",
    "  - Notable anomalies\n",
    "  - Business implications (if any)"
   ]
  },
  {
   "cell_type": "code",
   "execution_count": 9,
   "id": "7e333a66-6597-4793-b062-e642f7286ceb",
   "metadata": {},
   "outputs": [],
   "source": [
    "import pandas as pd\n",
    "import matplotlib.pyplot as plt\n",
    "import seaborn as sns\n",
    "\n",
    "df = pd.read_csv('netflix_titles.csv')"
   ]
  },
  {
   "cell_type": "code",
   "execution_count": 18,
   "id": "f1286aa5-f266-4f3b-9c1a-0f22741d317f",
   "metadata": {},
   "outputs": [],
   "source": [
    "# Exporting cleaned data to a new CSV file\n",
    "df.to_csv(\"cleaned_netflix_data.csv\", index=False)"
   ]
  },
  {
   "cell_type": "markdown",
   "id": "bf4d1fd7-58a4-4ff6-95cf-ad5674426335",
   "metadata": {},
   "source": [
    "### 📌 Summary & Insights\n",
    "\n",
    "#### Patterns & Trends:\n",
    "- TV Shows and Movies are nearly balanced, with a slight edge towards Movies.\n",
    "- Most content was added in recent years (peak around 2018–2020).\n",
    "- Top genres include *Dramas*, *International Movies*, and *Comedies*.\n",
    "- Movie durations vary widely, but many fall between 80 to 120 minutes.\n",
    "\n",
    "#### Notable Anomalies:\n",
    "- Some entries have missing `cast`, `director`, or `country`.\n",
    "- A few shows/movies have extremely long or short durations, which may be data errors or rare content types.\n",
    "\n",
    "#### Business Implications:\n",
    "- Netflix may prioritize adding international and drama content to appeal to a broad audience.\n",
    "- Trends can help content teams decide future investments in TV Shows vs. Movies.\n",
    "- Understanding peak content years can assist in planning content acquisition.\n",
    "\n"
   ]
  },
  {
   "cell_type": "code",
   "execution_count": null,
   "id": "c7fedac8-7b2a-47be-9329-6f517f4a0c8e",
   "metadata": {},
   "outputs": [],
   "source": []
  }
 ],
 "metadata": {
  "kernelspec": {
   "display_name": "Python [conda env:base] *",
   "language": "python",
   "name": "conda-base-py"
  },
  "language_info": {
   "codemirror_mode": {
    "name": "ipython",
    "version": 3
   },
   "file_extension": ".py",
   "mimetype": "text/x-python",
   "name": "python",
   "nbconvert_exporter": "python",
   "pygments_lexer": "ipython3",
   "version": "3.12.7"
  }
 },
 "nbformat": 4,
 "nbformat_minor": 5
}
