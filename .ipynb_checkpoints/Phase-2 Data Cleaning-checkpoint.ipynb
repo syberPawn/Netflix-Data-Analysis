{
 "cells": [
  {
   "cell_type": "markdown",
   "id": "3217bb3b-b5b6-4e8d-9536-672344c019be",
   "metadata": {},
   "source": [
    "🟠 Phase 2: Clean the Data\n",
    "\n",
    "✅ Key Tasks:\n",
    "\n",
    "Handle missing values\n",
    "\n",
    "Convert date columns\n",
    "\n",
    "Create useful columns (e.g. year added)"
   ]
  },
  {
   "cell_type": "code",
   "execution_count": 1,
   "id": "e54910f0-6817-4dfc-b73f-af69e3d2a947",
   "metadata": {},
   "outputs": [],
   "source": [
    "import pandas as pd\n",
    "import matplotlib.pyplot as plt\n",
    "import seaborn as sns\n",
    "\n",
    "df = pd.read_csv('netflix_titles.csv')"
   ]
  },
  {
   "cell_type": "markdown",
   "id": "b144d379-7ed9-44fc-bb68-5ce4f48c32d6",
   "metadata": {},
   "source": [
    "CONVERT DATE FORMAT TO STANDARD DATETIME"
   ]
  },
  {
   "cell_type": "code",
   "execution_count": 4,
   "id": "22c56b59-99fb-413c-b93d-410c447e55ec",
   "metadata": {},
   "outputs": [],
   "source": [
    "df['date_added'] = pd.to_datetime(df['date_added'], errors='coerce')"
   ]
  },
  {
   "cell_type": "code",
   "execution_count": 9,
   "id": "772c7d0d-37b5-4241-9ae2-395aa65bc657",
   "metadata": {},
   "outputs": [],
   "source": [
    "df['year_added'] = df['date_added'].dt.year"
   ]
  },
  {
   "cell_type": "markdown",
   "id": "a8ed5eae-2b3e-421d-aff1-8645221e2fb5",
   "metadata": {},
   "source": [
    "SEPARATE DURATIONS:CONVERT TO MINUTES OR SEASONS"
   ]
  },
  {
   "cell_type": "code",
   "execution_count": 10,
   "id": "26314c05-0300-43c9-93d7-1830ce189826",
   "metadata": {},
   "outputs": [],
   "source": [
    "df['duration_int'] = df['duration'].str.extract(r'(\\d+)').astype(float)\n",
    "df['duration_type'] = df['duration'].str.extract(r'(\\D+)', expand=False).str.strip()"
   ]
  }
 ],
 "metadata": {
  "kernelspec": {
   "display_name": "Python [conda env:base] *",
   "language": "python",
   "name": "conda-base-py"
  },
  "language_info": {
   "codemirror_mode": {
    "name": "ipython",
    "version": 3
   },
   "file_extension": ".py",
   "mimetype": "text/x-python",
   "name": "python",
   "nbconvert_exporter": "python",
   "pygments_lexer": "ipython3",
   "version": "3.12.7"
  }
 },
 "nbformat": 4,
 "nbformat_minor": 5
}
